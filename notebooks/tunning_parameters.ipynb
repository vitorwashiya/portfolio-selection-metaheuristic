{
 "cells": [
  {
   "cell_type": "markdown",
   "metadata": {},
   "source": [
    "# Libraries"
   ]
  },
  {
   "cell_type": "code",
   "execution_count": 1,
   "metadata": {},
   "outputs": [],
   "source": [
    "import os\n",
    "import sys\n",
    "from itertools import product\n",
    "import time\n",
    "import numpy as np\n",
    "import pandas as pd\n",
    "import json\n",
    "\n",
    "module_path = os.path.abspath(os.path.join('..'))\n",
    "if module_path not in sys.path:\n",
    "    sys.path.append(module_path)\n",
    "\n",
    "from src.portfolio_selection_ga import PortfolioSelectionGA"
   ]
  },
  {
   "cell_type": "markdown",
   "metadata": {},
   "source": [
    "# Import returns data"
   ]
  },
  {
   "cell_type": "code",
   "execution_count": 2,
   "metadata": {},
   "outputs": [],
   "source": [
    "def read_returns_data(file_path):\n",
    "    data = pd.read_excel(file_path)\n",
    "    data['Date'] = pd.to_datetime(data['Date'])\n",
    "    return data.set_index('Date').sort_index().pct_change().dropna()\n",
    "\n",
    "data = read_returns_data(\"../data/base_dados.xlsx\")"
   ]
  },
  {
   "cell_type": "markdown",
   "metadata": {},
   "source": [
    "# Create the combination grid"
   ]
  },
  {
   "cell_type": "code",
   "execution_count": 3,
   "metadata": {},
   "outputs": [],
   "source": [
    "popl_size_list = [10,20,30,40,50]\n",
    "muta_rate_list = [0.1, 0.2, 0.3, 0.4, 0.5]\n",
    "max_iter_list = [4000, 5000, 6000]\n",
    "max_iter_wo_imprv_list = [50, 100, 150]\n",
    "\n",
    "grid = []\n",
    "for popl_size, muta_rate, max_iter, max_iter_wo_imprv in product(popl_size_list, muta_rate_list, max_iter_list, max_iter_wo_imprv_list):\n",
    "    grid.append({\n",
    "        \"popl_size\": popl_size,\n",
    "        \"muta_rate\": muta_rate,\n",
    "        \"max_iter\": max_iter,\n",
    "        \"max_iter_wo_imprv\": max_iter_wo_imprv\n",
    "    })"
   ]
  },
  {
   "cell_type": "markdown",
   "metadata": {},
   "source": [
    "# Find the execution time and fitness for all parameters combination"
   ]
  },
  {
   "cell_type": "code",
   "execution_count": 4,
   "metadata": {},
   "outputs": [
    {
     "name": "stdout",
     "output_type": "stream",
     "text": [
      "Running simulation 225 out of 225 with parameters {'popl_size': 50, 'muta_rate': 0.5, 'max_iter': 6000, 'max_iter_wo_imprv': 150}\r"
     ]
    }
   ],
   "source": [
    "risk_aver_list = [0.1, 0.2, 0.3, 0.4, 0.5, 0.6, 0.7, 0.8, 0.9]\n",
    "\n",
    "for i, parameters in enumerate(grid, 1):\n",
    "    print(\n",
    "        f\"Running simulation {i} out of {len(grid)} with parameters {parameters}\",\n",
    "        end=\"\\r\")\n",
    "    start_param = time.time()\n",
    "\n",
    "    execution_time_list = []\n",
    "    fitness_list = []\n",
    "    for risk_aver in risk_aver_list:\n",
    "        execution_start = time.time()\n",
    "        ga = PortfolioSelectionGA(data=data, risk_aver=risk_aver, **parameters)\n",
    "        ga.optimize()\n",
    "        execution_time_list.append(time.time() - execution_start)\n",
    "        fitness_list.append(ga.popl_fit.min())\n",
    "\n",
    "    parameters[\"total_execution_time\"] = time.time() - start_param\n",
    "    parameters[\"execution_time_list\"] = execution_time_list\n",
    "    parameters[\"fitness_list\"] = fitness_list\n",
    "\n",
    "    parameters[\"execution_time\"] = np.mean(execution_time_list)\n",
    "    parameters[\"execution_time_std\"] = np.std(execution_time_list)\n",
    "    parameters[\"fitness\"] = np.mean(fitness_list)\n",
    "    parameters[\"fitness_std\"] = np.std(fitness_list)"
   ]
  },
  {
   "cell_type": "markdown",
   "metadata": {},
   "source": [
    "# Rank by execution time and fitness and find the best parameter combination"
   ]
  },
  {
   "cell_type": "code",
   "execution_count": 5,
   "metadata": {},
   "outputs": [
    {
     "data": {
      "text/plain": [
       "{'popl_size': 10,\n",
       " 'muta_rate': 0.5,\n",
       " 'max_iter': 5000,\n",
       " 'max_iter_wo_imprv': 150,\n",
       " 'total_execution_time': 104.90223288536072,\n",
       " 'execution_time_list': [14.584100723266602,\n",
       "  21.562983751296997,\n",
       "  14.316090822219849,\n",
       "  13.10235071182251,\n",
       "  14.7273690700531,\n",
       "  10.899469137191772,\n",
       "  5.9856061935424805,\n",
       "  5.333545923233032,\n",
       "  4.390653848648071],\n",
       " 'fitness_list': [-0.01371895677082991,\n",
       "  -0.011800437455595086,\n",
       "  -0.00907819137511223,\n",
       "  -0.007001914122151196,\n",
       "  -0.005440688517456221,\n",
       "  -0.0029230279020531504,\n",
       "  -0.0015989507083839511,\n",
       "  -0.0004418617246591817,\n",
       "  0.0002536502655703393],\n",
       " 'execution_time': 11.655796686808268,\n",
       " 'execution_time_std': 5.278970934746049,\n",
       " 'fitness': -0.005750042034518955,\n",
       " 'fitness_std': 0.004741015077910651,\n",
       " 'rank_execution_time': 57,\n",
       " 'rank_fitness': 79,\n",
       " 'rank': 136}"
      ]
     },
     "execution_count": 5,
     "metadata": {},
     "output_type": "execute_result"
    }
   ],
   "source": [
    "grid.sort(key=lambda x: x.get(\"execution_time\"))\n",
    "for idx, param in enumerate(grid, 1):\n",
    "    param[\"rank_execution_time\"] = idx\n",
    "\n",
    "grid.sort(key=lambda x: x.get(\"fitness\"))\n",
    "for idx, param in enumerate(grid, 1):\n",
    "    param[\"rank_fitness\"] = idx\n",
    "\n",
    "for param in grid:\n",
    "    param[\"rank\"] = param[\"rank_execution_time\"] + param[\"rank_fitness\"]\n",
    "    \n",
    "grid.sort(key=lambda x: x.get(\"rank\"))\n",
    "grid[0]"
   ]
  },
  {
   "cell_type": "markdown",
   "metadata": {},
   "source": [
    "# Save results"
   ]
  },
  {
   "cell_type": "code",
   "execution_count": 7,
   "metadata": {},
   "outputs": [],
   "source": [
    "with open(\"../data/parameters_grid_results.json\", \"w\") as file:\n",
    "    json.dump(grid, file, indent=4)"
   ]
  }
 ],
 "metadata": {
  "kernelspec": {
   "display_name": "base",
   "language": "python",
   "name": "python3"
  },
  "language_info": {
   "codemirror_mode": {
    "name": "ipython",
    "version": 3
   },
   "file_extension": ".py",
   "mimetype": "text/x-python",
   "name": "python",
   "nbconvert_exporter": "python",
   "pygments_lexer": "ipython3",
   "version": "3.12.2"
  }
 },
 "nbformat": 4,
 "nbformat_minor": 2
}
